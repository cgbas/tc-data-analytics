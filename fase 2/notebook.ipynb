{
  "cells": [
    {
      "cell_type": "markdown",
      "metadata": {
        "colab_type": "text",
        "id": "view-in-github"
      },
      "source": [
        "<a href=\"https://colab.research.google.com/github/cgbas/tc-data-analytics/blob/feature%2Ffase2/fase%202/notebook.ipynb\" target=\"_parent\"><img src=\"https://colab.research.google.com/assets/colab-badge.svg\" alt=\"Open In Colab\"/></a>"
      ]
    },
    {
      "cell_type": "markdown",
      "metadata": {
        "id": "VYjfAg51svPQ"
      },
      "source": [
        "# Modelo preditivo Ibovespa\n",
        "\n",
        "Imagine que você foi escalado para um time de investimentos e precisará realizar um modelo preditivo com dados do IBOVESPA (Bolsa de Valores) para criar uma série temporal e prever diariamente o fechamento da base.\n",
        "\n",
        "Para isso utilize a base  de dados contida no [Site da Investing](!https://br.investing.com/indices/bovespa-historical-data) e selecione o período diário, com o intervalo de tempo que achar adequado.\n",
        "\n",
        "Você precisará demonstrar para o time de investimentos:\n",
        "\n",
        "- O modelo com o storytelling, desde a captura do dado até a entrega do modelo;\n",
        "- Justificar a técnica utilizada;\n",
        "- Atingir uma acuracidade adequada (acima de 70%)\n",
        "\n",
        "_Dica: utilize o maior intervalo de tempo possível para atingir maior acuracidade no modelo preditivo._"
      ]
    },
    {
      "cell_type": "markdown",
      "metadata": {
        "id": "8UUGTWmSs3S_"
      },
      "source": [
        "## Desenvolvimento\n",
        "\n",
        "\n"
      ]
    },
    {
      "cell_type": "markdown",
      "metadata": {
        "id": "y7shvJG35xpN"
      },
      "source": [
        "### Coleta e Tratamento dos dados\n",
        "\n",
        "Consideraremos dados desde o primeiro dia do plano real (01/07/1994) em nossa análise preliminar, inclusive para entender a ocorrência de outliers desde a introdução de nossa moeda corrente.\n",
        "\n"
      ]
    },
    {
      "cell_type": "code",
      "execution_count": 1,
      "metadata": {
        "colab": {
          "base_uri": "https://localhost:8080/"
        },
        "id": "sxz1r1OAsonI",
        "outputId": "4b8213eb-d37e-4d28-b755-0a7aac7e91be"
      },
      "outputs": [
        {
          "name": "stdout",
          "output_type": "stream",
          "text": [
            "<class 'pandas.core.frame.DataFrame'>\n",
            "RangeIndex: 5000 entries, 0 to 4999\n",
            "Data columns (total 7 columns):\n",
            " #   Column    Non-Null Count  Dtype  \n",
            "---  ------    --------------  -----  \n",
            " 0   Data      5000 non-null   object \n",
            " 1   Último    5000 non-null   float64\n",
            " 2   Abertura  5000 non-null   float64\n",
            " 3   Máxima    5000 non-null   float64\n",
            " 4   Mínima    5000 non-null   float64\n",
            " 5   Vol.      5000 non-null   object \n",
            " 6   Var%      5000 non-null   object \n",
            "dtypes: float64(4), object(3)\n",
            "memory usage: 273.6+ KB\n"
          ]
        }
      ],
      "source": [
        "import pandas as pd\n",
        "\n",
        "df_ibovespa = pd.read_csv('Dados Históricos - Ibovespa.csv')\n",
        "df_ibovespa.info()"
      ]
    },
    {
      "cell_type": "code",
      "execution_count": 2,
      "metadata": {
        "colab": {
          "base_uri": "https://localhost:8080/",
          "height": 206
        },
        "id": "nOChwBw1t7q3",
        "outputId": "fd6f9317-4298-4c12-fd03-e2fcffdd8482"
      },
      "outputs": [
        {
          "data": {
            "text/html": [
              "<div>\n",
              "<style scoped>\n",
              "    .dataframe tbody tr th:only-of-type {\n",
              "        vertical-align: middle;\n",
              "    }\n",
              "\n",
              "    .dataframe tbody tr th {\n",
              "        vertical-align: top;\n",
              "    }\n",
              "\n",
              "    .dataframe thead th {\n",
              "        text-align: right;\n",
              "    }\n",
              "</style>\n",
              "<table border=\"1\" class=\"dataframe\">\n",
              "  <thead>\n",
              "    <tr style=\"text-align: right;\">\n",
              "      <th></th>\n",
              "      <th>Data</th>\n",
              "      <th>Último</th>\n",
              "      <th>Abertura</th>\n",
              "      <th>Máxima</th>\n",
              "      <th>Mínima</th>\n",
              "      <th>Vol.</th>\n",
              "      <th>Var%</th>\n",
              "    </tr>\n",
              "  </thead>\n",
              "  <tbody>\n",
              "    <tr>\n",
              "      <th>0</th>\n",
              "      <td>2014-09-12</td>\n",
              "      <td>56.928</td>\n",
              "      <td>58.336</td>\n",
              "      <td>58.336</td>\n",
              "      <td>56.666</td>\n",
              "      <td>4620000</td>\n",
              "      <td>-2,42%</td>\n",
              "    </tr>\n",
              "    <tr>\n",
              "      <th>1</th>\n",
              "      <td>2014-09-11</td>\n",
              "      <td>58.337</td>\n",
              "      <td>58.202</td>\n",
              "      <td>58.809</td>\n",
              "      <td>58.112</td>\n",
              "      <td>2890000</td>\n",
              "      <td>0,24%</td>\n",
              "    </tr>\n",
              "    <tr>\n",
              "      <th>2</th>\n",
              "      <td>2014-09-10</td>\n",
              "      <td>58.199</td>\n",
              "      <td>58.675</td>\n",
              "      <td>58.675</td>\n",
              "      <td>57.450</td>\n",
              "      <td>3810000</td>\n",
              "      <td>-0,81%</td>\n",
              "    </tr>\n",
              "    <tr>\n",
              "      <th>3</th>\n",
              "      <td>2014-09-09</td>\n",
              "      <td>58.676</td>\n",
              "      <td>59.158</td>\n",
              "      <td>59.485</td>\n",
              "      <td>58.306</td>\n",
              "      <td>4460000</td>\n",
              "      <td>-0,87%</td>\n",
              "    </tr>\n",
              "    <tr>\n",
              "      <th>4</th>\n",
              "      <td>2014-09-08</td>\n",
              "      <td>59.193</td>\n",
              "      <td>60.708</td>\n",
              "      <td>61.513</td>\n",
              "      <td>59.191</td>\n",
              "      <td>4390000</td>\n",
              "      <td>-2,45%</td>\n",
              "    </tr>\n",
              "  </tbody>\n",
              "</table>\n",
              "</div>"
            ],
            "text/plain": [
              "        Data  Último  Abertura  Máxima  Mínima     Vol.    Var%\n",
              "0 2014-09-12  56.928    58.336  58.336  56.666  4620000  -2,42%\n",
              "1 2014-09-11  58.337    58.202  58.809  58.112  2890000   0,24%\n",
              "2 2014-09-10  58.199    58.675  58.675  57.450  3810000  -0,81%\n",
              "3 2014-09-09  58.676    59.158  59.485  58.306  4460000  -0,87%\n",
              "4 2014-09-08  59.193    60.708  61.513  59.191  4390000  -2,45%"
            ]
          },
          "execution_count": 2,
          "metadata": {},
          "output_type": "execute_result"
        }
      ],
      "source": [
        "# Conferindo o resultado do info, vemos que os dados exportados não estão no formato ideal\n",
        "# vamos fazer algumas conversões e conferir o cálculo da variação percentual\n",
        "df_ibovespa['Data'] = pd.to_datetime(df_ibovespa['Data'], dayfirst=1)\n",
        "df_ibovespa['Vol.'] = df_ibovespa['Vol.'].str.replace(',', '.')\n",
        "def convert_value(value):\n",
        "    if value[-1] == 'K':\n",
        "        return int(float(value[:-1]) * 1000)\n",
        "    elif value[-1] == 'M':\n",
        "        return int(float(value[:-1])* 1000000)\n",
        "    elif value[-1] == 'B':\n",
        "        return int(float(value[:-1]) * 1000000000)\n",
        "    else:\n",
        "        return int(float(value))\n",
        "\n",
        "df_ibovespa['Vol.'] = df_ibovespa['Vol.'].apply(convert_value)\n",
        "df_ibovespa.head()"
      ]
    },
    {
      "cell_type": "code",
      "execution_count": 3,
      "metadata": {
        "colab": {
          "base_uri": "https://localhost:8080/",
          "height": 206
        },
        "id": "02PXIjH8y7OK",
        "outputId": "a3f74d0d-b32d-40ef-bfe8-e2421146db9c"
      },
      "outputs": [
        {
          "data": {
            "text/html": [
              "<div>\n",
              "<style scoped>\n",
              "    .dataframe tbody tr th:only-of-type {\n",
              "        vertical-align: middle;\n",
              "    }\n",
              "\n",
              "    .dataframe tbody tr th {\n",
              "        vertical-align: top;\n",
              "    }\n",
              "\n",
              "    .dataframe thead th {\n",
              "        text-align: right;\n",
              "    }\n",
              "</style>\n",
              "<table border=\"1\" class=\"dataframe\">\n",
              "  <thead>\n",
              "    <tr style=\"text-align: right;\">\n",
              "      <th></th>\n",
              "      <th>Data</th>\n",
              "      <th>Último</th>\n",
              "      <th>Abertura</th>\n",
              "      <th>Máxima</th>\n",
              "      <th>Mínima</th>\n",
              "      <th>Vol.</th>\n",
              "      <th>Var%</th>\n",
              "      <th>Var % Recalculada</th>\n",
              "      <th>Diff Var</th>\n",
              "    </tr>\n",
              "  </thead>\n",
              "  <tbody>\n",
              "    <tr>\n",
              "      <th>0</th>\n",
              "      <td>2014-09-12</td>\n",
              "      <td>56.928</td>\n",
              "      <td>58.336</td>\n",
              "      <td>58.336</td>\n",
              "      <td>56.666</td>\n",
              "      <td>4620000</td>\n",
              "      <td>-2.42</td>\n",
              "      <td>-2.414</td>\n",
              "      <td>0.2</td>\n",
              "    </tr>\n",
              "    <tr>\n",
              "      <th>1</th>\n",
              "      <td>2014-09-11</td>\n",
              "      <td>58.337</td>\n",
              "      <td>58.202</td>\n",
              "      <td>58.809</td>\n",
              "      <td>58.112</td>\n",
              "      <td>2890000</td>\n",
              "      <td>0.24</td>\n",
              "      <td>0.232</td>\n",
              "      <td>3.4</td>\n",
              "    </tr>\n",
              "    <tr>\n",
              "      <th>2</th>\n",
              "      <td>2014-09-10</td>\n",
              "      <td>58.199</td>\n",
              "      <td>58.675</td>\n",
              "      <td>58.675</td>\n",
              "      <td>57.450</td>\n",
              "      <td>3810000</td>\n",
              "      <td>-0.81</td>\n",
              "      <td>-0.811</td>\n",
              "      <td>-0.1</td>\n",
              "    </tr>\n",
              "    <tr>\n",
              "      <th>3</th>\n",
              "      <td>2014-09-09</td>\n",
              "      <td>58.676</td>\n",
              "      <td>59.158</td>\n",
              "      <td>59.485</td>\n",
              "      <td>58.306</td>\n",
              "      <td>4460000</td>\n",
              "      <td>-0.87</td>\n",
              "      <td>-0.815</td>\n",
              "      <td>6.7</td>\n",
              "    </tr>\n",
              "    <tr>\n",
              "      <th>4</th>\n",
              "      <td>2014-09-08</td>\n",
              "      <td>59.193</td>\n",
              "      <td>60.708</td>\n",
              "      <td>61.513</td>\n",
              "      <td>59.191</td>\n",
              "      <td>4390000</td>\n",
              "      <td>-2.45</td>\n",
              "      <td>-2.496</td>\n",
              "      <td>-1.8</td>\n",
              "    </tr>\n",
              "  </tbody>\n",
              "</table>\n",
              "</div>"
            ],
            "text/plain": [
              "        Data  Último  Abertura  Máxima  Mínima     Vol.  Var%  \\\n",
              "0 2014-09-12  56.928    58.336  58.336  56.666  4620000 -2.42   \n",
              "1 2014-09-11  58.337    58.202  58.809  58.112  2890000  0.24   \n",
              "2 2014-09-10  58.199    58.675  58.675  57.450  3810000 -0.81   \n",
              "3 2014-09-09  58.676    59.158  59.485  58.306  4460000 -0.87   \n",
              "4 2014-09-08  59.193    60.708  61.513  59.191  4390000 -2.45   \n",
              "\n",
              "   Var % Recalculada  Diff Var  \n",
              "0             -2.414       0.2  \n",
              "1              0.232       3.4  \n",
              "2             -0.811      -0.1  \n",
              "3             -0.815       6.7  \n",
              "4             -2.496      -1.8  "
            ]
          },
          "execution_count": 3,
          "metadata": {},
          "output_type": "execute_result"
        }
      ],
      "source": [
        "df_ibovespa['Var % Recalculada'] = ((df_ibovespa['Último'] / df_ibovespa['Abertura'] - 1) * 100).round(3)\n",
        "df_ibovespa['Var%'] = df_ibovespa['Var%'].str.replace(',', '.').str.replace('%', '').astype(float)\n",
        "df_ibovespa['Diff Var'] = ((df_ibovespa['Var%'] / df_ibovespa['Var % Recalculada'] - 1) * 100).round(1)\n",
        "df_ibovespa.head()"
      ]
    },
    {
      "cell_type": "code",
      "execution_count": 4,
      "metadata": {
        "colab": {
          "base_uri": "https://localhost:8080/",
          "height": 206
        },
        "id": "cJCzpT1Q5M92",
        "outputId": "f3e3bacc-f8b4-4abf-ffc7-121853d9e689"
      },
      "outputs": [],
      "source": [
        "# Conferindo a diferença com o valor recalculado podemos ver que há uma diferença\n",
        "# significativa em alguns dias, portanto utilizaremos o valor recalculado como oficial\n",
        "df_ibovespa.drop(columns=['Var%'], inplace=True)\n",
        "df_ibovespa.drop(columns=['Diff Var'], inplace=True)\n",
        "df_ibovespa.rename(columns={'Var % Recalculada': 'Var %'}, inplace=True)"
      ]
    },
    {
      "cell_type": "code",
      "execution_count": 5,
      "metadata": {
        "colab": {
          "base_uri": "https://localhost:8080/",
          "height": 456
        },
        "id": "RFyHsq5f3pGQ",
        "outputId": "703a893d-b0de-40a7-c471-eb25d49d7b65"
      },
      "outputs": [
        {
          "name": "stdout",
          "output_type": "stream",
          "text": [
            "<class 'pandas.core.frame.DataFrame'>\n",
            "RangeIndex: 5000 entries, 0 to 4999\n",
            "Data columns (total 7 columns):\n",
            " #   Column    Non-Null Count  Dtype         \n",
            "---  ------    --------------  -----         \n",
            " 0   Data      5000 non-null   datetime64[ns]\n",
            " 1   Último    5000 non-null   float64       \n",
            " 2   Abertura  5000 non-null   float64       \n",
            " 3   Máxima    5000 non-null   float64       \n",
            " 4   Mínima    5000 non-null   float64       \n",
            " 5   Vol.      5000 non-null   int64         \n",
            " 6   Var %     5000 non-null   float64       \n",
            "dtypes: datetime64[ns](1), float64(5), int64(1)\n",
            "memory usage: 273.6 KB\n"
          ]
        },
        {
          "data": {
            "text/html": [
              "<div>\n",
              "<style scoped>\n",
              "    .dataframe tbody tr th:only-of-type {\n",
              "        vertical-align: middle;\n",
              "    }\n",
              "\n",
              "    .dataframe tbody tr th {\n",
              "        vertical-align: top;\n",
              "    }\n",
              "\n",
              "    .dataframe thead th {\n",
              "        text-align: right;\n",
              "    }\n",
              "</style>\n",
              "<table border=\"1\" class=\"dataframe\">\n",
              "  <thead>\n",
              "    <tr style=\"text-align: right;\">\n",
              "      <th></th>\n",
              "      <th>Data</th>\n",
              "      <th>Último</th>\n",
              "      <th>Abertura</th>\n",
              "      <th>Máxima</th>\n",
              "      <th>Mínima</th>\n",
              "      <th>Vol.</th>\n",
              "      <th>Var %</th>\n",
              "    </tr>\n",
              "  </thead>\n",
              "  <tbody>\n",
              "    <tr>\n",
              "      <th>0</th>\n",
              "      <td>2014-09-12</td>\n",
              "      <td>56.928</td>\n",
              "      <td>58.336</td>\n",
              "      <td>58.336</td>\n",
              "      <td>56.666</td>\n",
              "      <td>4620000</td>\n",
              "      <td>-2.414</td>\n",
              "    </tr>\n",
              "    <tr>\n",
              "      <th>1</th>\n",
              "      <td>2014-09-11</td>\n",
              "      <td>58.337</td>\n",
              "      <td>58.202</td>\n",
              "      <td>58.809</td>\n",
              "      <td>58.112</td>\n",
              "      <td>2890000</td>\n",
              "      <td>0.232</td>\n",
              "    </tr>\n",
              "    <tr>\n",
              "      <th>2</th>\n",
              "      <td>2014-09-10</td>\n",
              "      <td>58.199</td>\n",
              "      <td>58.675</td>\n",
              "      <td>58.675</td>\n",
              "      <td>57.450</td>\n",
              "      <td>3810000</td>\n",
              "      <td>-0.811</td>\n",
              "    </tr>\n",
              "    <tr>\n",
              "      <th>3</th>\n",
              "      <td>2014-09-09</td>\n",
              "      <td>58.676</td>\n",
              "      <td>59.158</td>\n",
              "      <td>59.485</td>\n",
              "      <td>58.306</td>\n",
              "      <td>4460000</td>\n",
              "      <td>-0.815</td>\n",
              "    </tr>\n",
              "    <tr>\n",
              "      <th>4</th>\n",
              "      <td>2014-09-08</td>\n",
              "      <td>59.193</td>\n",
              "      <td>60.708</td>\n",
              "      <td>61.513</td>\n",
              "      <td>59.191</td>\n",
              "      <td>4390000</td>\n",
              "      <td>-2.496</td>\n",
              "    </tr>\n",
              "  </tbody>\n",
              "</table>\n",
              "</div>"
            ],
            "text/plain": [
              "        Data  Último  Abertura  Máxima  Mínima     Vol.  Var %\n",
              "0 2014-09-12  56.928    58.336  58.336  56.666  4620000 -2.414\n",
              "1 2014-09-11  58.337    58.202  58.809  58.112  2890000  0.232\n",
              "2 2014-09-10  58.199    58.675  58.675  57.450  3810000 -0.811\n",
              "3 2014-09-09  58.676    59.158  59.485  58.306  4460000 -0.815\n",
              "4 2014-09-08  59.193    60.708  61.513  59.191  4390000 -2.496"
            ]
          },
          "execution_count": 5,
          "metadata": {},
          "output_type": "execute_result"
        }
      ],
      "source": [
        "# dataframe já trabalhado\n",
        "df_ibovespa.info()\n",
        "df_ibovespa.head()"
      ]
    },
    {
      "cell_type": "markdown",
      "metadata": {
        "id": "zatkwQaX5z7V"
      },
      "source": [
        "### Análise Exploratória"
      ]
    },
    {
      "cell_type": "code",
      "execution_count": 6,
      "metadata": {
        "colab": {
          "base_uri": "https://localhost:8080/",
          "height": 300
        },
        "id": "CSbjdsGY6P2k",
        "outputId": "fb80b7e1-c75a-4e43-8f4b-ff49d47f20cd"
      },
      "outputs": [
        {
          "data": {
            "text/html": [
              "<div>\n",
              "<style scoped>\n",
              "    .dataframe tbody tr th:only-of-type {\n",
              "        vertical-align: middle;\n",
              "    }\n",
              "\n",
              "    .dataframe tbody tr th {\n",
              "        vertical-align: top;\n",
              "    }\n",
              "\n",
              "    .dataframe thead th {\n",
              "        text-align: right;\n",
              "    }\n",
              "</style>\n",
              "<table border=\"1\" class=\"dataframe\">\n",
              "  <thead>\n",
              "    <tr style=\"text-align: right;\">\n",
              "      <th></th>\n",
              "      <th>Data</th>\n",
              "      <th>Último</th>\n",
              "      <th>Abertura</th>\n",
              "      <th>Máxima</th>\n",
              "      <th>Mínima</th>\n",
              "      <th>Vol.</th>\n",
              "      <th>Var %</th>\n",
              "    </tr>\n",
              "  </thead>\n",
              "  <tbody>\n",
              "    <tr>\n",
              "      <th>count</th>\n",
              "      <td>5000</td>\n",
              "      <td>5000.000000</td>\n",
              "      <td>5000.000000</td>\n",
              "      <td>5000.000000</td>\n",
              "      <td>5000.000000</td>\n",
              "      <td>5.000000e+03</td>\n",
              "      <td>5000.000000</td>\n",
              "    </tr>\n",
              "    <tr>\n",
              "      <th>mean</th>\n",
              "      <td>2004-08-08 03:57:35.999999872</td>\n",
              "      <td>31.011401</td>\n",
              "      <td>31.002171</td>\n",
              "      <td>31.349051</td>\n",
              "      <td>30.653957</td>\n",
              "      <td>2.349664e+09</td>\n",
              "      <td>0.071056</td>\n",
              "    </tr>\n",
              "    <tr>\n",
              "      <th>min</th>\n",
              "      <td>1994-07-04 00:00:00</td>\n",
              "      <td>2.138000</td>\n",
              "      <td>2.138000</td>\n",
              "      <td>2.449000</td>\n",
              "      <td>2.110000</td>\n",
              "      <td>1.121000e+05</td>\n",
              "      <td>-15.779000</td>\n",
              "    </tr>\n",
              "    <tr>\n",
              "      <th>25%</th>\n",
              "      <td>1999-07-26 18:00:00</td>\n",
              "      <td>11.011250</td>\n",
              "      <td>11.014500</td>\n",
              "      <td>11.157500</td>\n",
              "      <td>10.850500</td>\n",
              "      <td>3.277500e+06</td>\n",
              "      <td>-1.024250</td>\n",
              "    </tr>\n",
              "    <tr>\n",
              "      <th>50%</th>\n",
              "      <td>2004-08-05 12:00:00</td>\n",
              "      <td>22.818500</td>\n",
              "      <td>22.791000</td>\n",
              "      <td>23.040500</td>\n",
              "      <td>22.506000</td>\n",
              "      <td>1.574000e+08</td>\n",
              "      <td>0.098500</td>\n",
              "    </tr>\n",
              "    <tr>\n",
              "      <th>75%</th>\n",
              "      <td>2009-08-24 06:00:00</td>\n",
              "      <td>54.057750</td>\n",
              "      <td>54.053750</td>\n",
              "      <td>54.629750</td>\n",
              "      <td>53.498250</td>\n",
              "      <td>6.834125e+08</td>\n",
              "      <td>1.220000</td>\n",
              "    </tr>\n",
              "    <tr>\n",
              "      <th>max</th>\n",
              "      <td>2014-09-12 00:00:00</td>\n",
              "      <td>73.517000</td>\n",
              "      <td>73.508000</td>\n",
              "      <td>73.920000</td>\n",
              "      <td>72.534000</td>\n",
              "      <td>5.406000e+10</td>\n",
              "      <td>33.896000</td>\n",
              "    </tr>\n",
              "    <tr>\n",
              "      <th>std</th>\n",
              "      <td>NaN</td>\n",
              "      <td>22.409299</td>\n",
              "      <td>22.409006</td>\n",
              "      <td>22.607527</td>\n",
              "      <td>22.201333</td>\n",
              "      <td>4.564622e+09</td>\n",
              "      <td>2.222023</td>\n",
              "    </tr>\n",
              "  </tbody>\n",
              "</table>\n",
              "</div>"
            ],
            "text/plain": [
              "                                Data       Último     Abertura       Máxima  \\\n",
              "count                           5000  5000.000000  5000.000000  5000.000000   \n",
              "mean   2004-08-08 03:57:35.999999872    31.011401    31.002171    31.349051   \n",
              "min              1994-07-04 00:00:00     2.138000     2.138000     2.449000   \n",
              "25%              1999-07-26 18:00:00    11.011250    11.014500    11.157500   \n",
              "50%              2004-08-05 12:00:00    22.818500    22.791000    23.040500   \n",
              "75%              2009-08-24 06:00:00    54.057750    54.053750    54.629750   \n",
              "max              2014-09-12 00:00:00    73.517000    73.508000    73.920000   \n",
              "std                              NaN    22.409299    22.409006    22.607527   \n",
              "\n",
              "            Mínima          Vol.        Var %  \n",
              "count  5000.000000  5.000000e+03  5000.000000  \n",
              "mean     30.653957  2.349664e+09     0.071056  \n",
              "min       2.110000  1.121000e+05   -15.779000  \n",
              "25%      10.850500  3.277500e+06    -1.024250  \n",
              "50%      22.506000  1.574000e+08     0.098500  \n",
              "75%      53.498250  6.834125e+08     1.220000  \n",
              "max      72.534000  5.406000e+10    33.896000  \n",
              "std      22.201333  4.564622e+09     2.222023  "
            ]
          },
          "execution_count": 6,
          "metadata": {},
          "output_type": "execute_result"
        }
      ],
      "source": [
        "df_ibovespa.describe()"
      ]
    }
  ],
  "metadata": {
    "colab": {
      "authorship_tag": "ABX9TyM9e7gvcgJ4EtKyFan2VEl8",
      "include_colab_link": true,
      "provenance": [],
      "toc_visible": true
    },
    "kernelspec": {
      "display_name": "Python 3",
      "name": "python3"
    },
    "language_info": {
      "name": "python"
    }
  },
  "nbformat": 4,
  "nbformat_minor": 0
}
